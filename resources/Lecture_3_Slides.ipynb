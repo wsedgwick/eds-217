{
 "cells": [
  {
   "cell_type": "markdown",
   "metadata": {
    "slideshow": {
     "slide_type": "slide"
    }
   },
   "source": [
    "# EDS 217, Lecture 3: Getting Help"
   ]
  },
  {
   "cell_type": "markdown",
   "metadata": {
    "slideshow": {
     "slide_type": "slide"
    }
   },
   "source": [
    "## Finding Help\n",
    "\n",
    "\n",
    "When you get an error, or an unexpected result, or you are not sure what to do... \n",
    "\n",
    "### Options:\n",
    "\n",
    "- Finding help _inside_ Python\n",
    "- Finding help _outside_ Python\n",
    "\n"
   ]
  },
  {
   "cell_type": "markdown",
   "metadata": {
    "slideshow": {
     "slide_type": "subslide"
    }
   },
   "source": [
    "### Finding Help Inside Python\n",
    "\n",
    "How do we interrogate the data (and other objects) we encounter while coding?\n",
    "\n",
    "```python\n",
    "\n",
    "my_var = 'some_unknown_thing'\n",
    "\n",
    "```\n",
    "\n",
    "What is it?"
   ]
  },
  {
   "cell_type": "code",
   "execution_count": null,
   "metadata": {
    "slideshow": {
     "slide_type": "fragment"
    }
   },
   "outputs": [],
   "source": [
    "my_var = 'some_unknown_thing'"
   ]
  },
  {
   "cell_type": "markdown",
   "metadata": {
    "slideshow": {
     "slide_type": "fragment"
    }
   },
   "source": [
    "The `type()` command tells you what sort of thing an object is."
   ]
  },
  {
   "cell_type": "markdown",
   "metadata": {
    "slideshow": {
     "slide_type": "subslide"
    }
   },
   "source": [
    "### Finding Help Inside Python\n",
    "\n",
    "How do we interrogate the data (and other objects) we encounter while coding?\n",
    "\n",
    "```python\n",
    "\n",
    "my_var = 'some_unknown_thing'\n",
    "\n",
    "```\n",
    "\n",
    "What can I do with it?"
   ]
  },
  {
   "cell_type": "code",
   "execution_count": null,
   "metadata": {
    "slideshow": {
     "slide_type": "fragment"
    }
   },
   "outputs": [],
   "source": [
    "my_var = ['my', 'list', 'of', 'things']\n",
    "dir(my_var)"
   ]
  },
  {
   "cell_type": "markdown",
   "metadata": {
    "slideshow": {
     "slide_type": "fragment"
    }
   },
   "source": [
    "The `dir()` command tells you what attributes an object has."
   ]
  },
  {
   "cell_type": "markdown",
   "metadata": {
    "slideshow": {
     "slide_type": "subslide"
    }
   },
   "source": [
    "### Understanding object attributes"
   ]
  },
  {
   "cell_type": "markdown",
   "metadata": {
    "cell_style": "split",
    "slideshow": {
     "slide_type": "fragment"
    }
   },
   "source": [
    "```python\n",
    "dir(my_var)\n",
    "\n",
    "['__add__',\n",
    " '__class__',\n",
    " '__contains__',\n",
    " '__delattr__',\n",
    " '__delitem__',\n",
    " '__dir__',...\n",
    "]\n",
    "```"
   ]
  },
  {
   "cell_type": "markdown",
   "metadata": {
    "cell_style": "split",
    "slideshow": {
     "slide_type": "fragment"
    }
   },
   "source": [
    "### What's with all these `__attributes__` ?"
   ]
  },
  {
   "cell_type": "markdown",
   "metadata": {
    "cell_style": "split",
    "slideshow": {
     "slide_type": "fragment"
    }
   },
   "source": [
    "`__attributes__` are internal (or private) attributes associated with _all_ python objects.\n",
    "\n"
   ]
  },
  {
   "cell_type": "markdown",
   "metadata": {
    "cell_style": "split",
    "slideshow": {
     "slide_type": "fragment"
    }
   },
   "source": [
    "These are called _\"magic\"_ or _\"dunder\"_ methods.\n",
    "\n",
    "**dunder → \"double under\" → `__`**"
   ]
  },
  {
   "cell_type": "markdown",
   "metadata": {
    "slideshow": {
     "slide_type": "subslide"
    }
   },
   "source": [
    "### Understanding object attributes... \"dunder\" the hood 😒"
   ]
  },
  {
   "cell_type": "markdown",
   "metadata": {
    "cell_style": "split",
    "slideshow": {
     "slide_type": "fragment"
    }
   },
   "source": [
    "**Everything** in Python is an _object_, and every _operation_ corresponds to a _method_."
   ]
  },
  {
   "cell_type": "code",
   "execution_count": null,
   "metadata": {
    "cell_style": "center",
    "slideshow": {
     "slide_type": "fragment"
    }
   },
   "outputs": [],
   "source": [
    "# __add__ and __mul__. __len__. (None). 2 Wrongs."
   ]
  },
  {
   "cell_type": "markdown",
   "metadata": {
    "slideshow": {
     "slide_type": "subslide"
    }
   },
   "source": [
    "### Understanding object attributes... \"dunder\" the hood 😒\n",
    "\n",
    "Generally, you will not have to worry about __dunder__ methods. \n",
    "\n",
    "Here's a shortcut function to look at only non-dunder methods"
   ]
  },
  {
   "cell_type": "code",
   "execution_count": null,
   "metadata": {
    "slideshow": {
     "slide_type": "fragment"
    }
   },
   "outputs": [],
   "source": [
    "def pdir(obj):\n",
    "    '''\n",
    "    pdir(): Return only the public attributes of an object\n",
    "    \n",
    "    Returns a list of only the non-dunder attributes \n",
    "    of an object by checking each attribute to see \n",
    "    if it starts with '__'\n",
    "    \n",
    "    \n",
    "    '''\n",
    "    public_attributes = []\n",
    "    for x in dir(obj):\n",
    "        if not x.startswith('__'):\n",
    "            public_attributes.append(x)\n",
    "\n",
    "    return public_attributes\n"
   ]
  },
  {
   "cell_type": "markdown",
   "metadata": {
    "slideshow": {
     "slide_type": "subslide"
    }
   },
   "source": [
    "### Tab Completion for object introspection\n",
    "\n",
    "You can use the `<tab>` key in iPython (or Jupyter environments) to explore object methods. By default, only \"public\" (non-dunder) methods are returned.\n",
    "\n",
    "Use `object.<tab>` to see methods available"
   ]
  },
  {
   "cell_type": "code",
   "execution_count": null,
   "metadata": {
    "slideshow": {
     "slide_type": "fragment"
    }
   },
   "outputs": [],
   "source": []
  },
  {
   "cell_type": "markdown",
   "metadata": {
    "slideshow": {
     "slide_type": "subslide"
    }
   },
   "source": [
    "### Getting `help()` inside Python"
   ]
  },
  {
   "cell_type": "markdown",
   "metadata": {
    "slideshow": {
     "slide_type": "fragment"
    }
   },
   "source": [
    "Most objects - especially packages and libraries - provide help documentation that can be accessed using the python  helper function... called... `help()`"
   ]
  },
  {
   "cell_type": "code",
   "execution_count": null,
   "metadata": {
    "slideshow": {
     "slide_type": "fragment"
    }
   },
   "outputs": [],
   "source": [
    "# 3, help, str, soil...\n",
    "help(3)"
   ]
  },
  {
   "cell_type": "markdown",
   "metadata": {
    "slideshow": {
     "slide_type": "subslide"
    }
   },
   "source": [
    "### Getting `help?`\n",
    "\n",
    "In the iPython shell (or the Jupyter Notebook/Jupyter Lab environment), you can also access the `help()` command using `?`."
   ]
  },
  {
   "cell_type": "code",
   "execution_count": null,
   "metadata": {
    "slideshow": {
     "slide_type": "fragment"
    }
   },
   "outputs": [],
   "source": []
  },
  {
   "cell_type": "markdown",
   "metadata": {
    "slideshow": {
     "slide_type": "subslide"
    }
   },
   "source": [
    "### Getting more `help??`\n",
    "\n",
    "In the iPython shell (or the Jupyter Notebook/Jupyter Lab environment) you can use `??` to see the actual source code of python code"
   ]
  },
  {
   "cell_type": "code",
   "execution_count": null,
   "metadata": {
    "slideshow": {
     "slide_type": "fragment"
    }
   },
   "outputs": [],
   "source": [
    "def square(x):\n",
    "    \"\"\" Squares a number \"\"\"\n",
    "    return x * x\n",
    "\n"
   ]
  },
  {
   "cell_type": "markdown",
   "metadata": {
    "slideshow": {
     "slide_type": "subslide"
    }
   },
   "source": [
    "### Getting more `help??`\n",
    "\n",
    "`??` only shows source code for for python functions that aren't compiled to C code. Otherwise, it will show the same information as `?`"
   ]
  },
  {
   "cell_type": "code",
   "execution_count": null,
   "metadata": {
    "slideshow": {
     "slide_type": "fragment"
    }
   },
   "outputs": [],
   "source": []
  },
  {
   "cell_type": "markdown",
   "metadata": {
    "slideshow": {
     "slide_type": "subslide"
    }
   },
   "source": [
    "### `<tab>` completion + `?` = discovery & introspection"
   ]
  },
  {
   "cell_type": "code",
   "execution_count": null,
   "metadata": {
    "slideshow": {
     "slide_type": "fragment"
    }
   },
   "outputs": [],
   "source": []
  },
  {
   "cell_type": "code",
   "execution_count": null,
   "metadata": {},
   "outputs": [],
   "source": [
    "# The End"
   ]
  },
  {
   "cell_type": "markdown",
   "metadata": {
    "slideshow": {
     "slide_type": "subslide"
    }
   },
   "source": [
    "### Debugging Code "
   ]
  },
  {
   "cell_type": "markdown",
   "metadata": {
    "cell_style": "split",
    "slideshow": {
     "slide_type": "fragment"
    }
   },
   "source": [
    "The `print` command is the most commonly used debugging tool for beginners. \n",
    "\n",
    "```python\n",
    "# This code generates a `TypeError` that \n",
    "# x is not the right kind of variable.\n",
    "do_something(x) \n",
    "```"
   ]
  },
  {
   "cell_type": "markdown",
   "metadata": {
    "cell_style": "split",
    "slideshow": {
     "slide_type": "fragment"
    }
   },
   "source": [
    "The `print` command is the most commonly used debugging tool for beginners.\n"
   ]
  },
  {
   "cell_type": "code",
   "execution_count": null,
   "metadata": {
    "cell_style": "split"
   },
   "outputs": [],
   "source": [
    "# print using c-style format statements\n",
    "x = 3.45\n",
    "print(\"x = %f\" % x)"
   ]
  },
  {
   "cell_type": "markdown",
   "metadata": {
    "cell_style": "split",
    "slideshow": {
     "slide_type": "subslide"
    }
   },
   "source": [
    "### Easier `print` Formatting in Python 3.6 and greater.\n",
    "\n",
    "```pythonC\n",
    "# checking python version:\n",
    "import sys\n",
    "print (sys.version)\n",
    "```\n"
   ]
  },
  {
   "cell_type": "code",
   "execution_count": null,
   "metadata": {
    "cell_style": "split",
    "slideshow": {
     "slide_type": "fragment"
    }
   },
   "outputs": [],
   "source": [
    "import sys\n",
    "print (sys.version)"
   ]
  },
  {
   "cell_type": "markdown",
   "metadata": {
    "cell_style": "split",
    "slideshow": {
     "slide_type": "subslide"
    }
   },
   "source": [
    "### Easier `print` Formatting in Python 3.6 and greater.\n",
    "\n",
    "Python 3.6 introduced new format strings callded [`f-strings`](https://realpython.com/python-f-strings/). These are strings that are prefixed with an `f` character and allow in-line variable substitution.\n"
   ]
  },
  {
   "cell_type": "code",
   "execution_count": null,
   "metadata": {
    "cell_style": "split",
    "slideshow": {
     "slide_type": "fragment"
    }
   },
   "outputs": [],
   "source": [
    "# print using c-style format statements\n",
    "x = 3.45\n",
    "print(\"x = %f\" % x)\n",
    "\n",
    "print(f\"x = {x}\")"
   ]
  },
  {
   "cell_type": "code",
   "execution_count": null,
   "metadata": {},
   "outputs": [],
   "source": [
    "def do_something(x):\n",
    "    x = x * 2\n",
    "    return x\n",
    "\n",
    "# This code generates a `TypeError` that \n",
    "# x is not the right kind of variable.\n",
    "x = 10\n",
    "# Check and see what is X?\n",
    "print(\n",
    "    f\"calling do_something() with x={x}\" # Python f-string\n",
    ")\n",
    "\n",
    "do_something(x) "
   ]
  },
  {
   "cell_type": "markdown",
   "metadata": {
    "cell_style": "center",
    "slideshow": {
     "slide_type": "slide"
    }
   },
   "source": [
    "### How to get help outside of Python\n",
    "\n",
    "- [Python Docs](https://docs.python.org/3.10/)\n",
    "- [Stack Overflow](https://stackoverflow.com)\n",
    "- [Talk Python](https://talkpython.fm/home)\n",
    "- [Ask Python](https://www.askpython.com)\n",
    "\n",
    "\n",
    "\n",
    "- [O'Rielly Books](https://learning.oreilly.com/home/) (Requires UCSB login)\n",
    "- My O'Rielly pdf library: [https://bit.ly/eds-217-books](https://bit.ly/eds-217-books) (Requires UCSB login)"
   ]
  },
  {
   "cell_type": "markdown",
   "metadata": {
    "slideshow": {
     "slide_type": "subslide"
    }
   },
   "source": [
    "### Debugging Code (using iPython as a debugger)"
   ]
  },
  {
   "cell_type": "code",
   "execution_count": null,
   "metadata": {
    "slideshow": {
     "slide_type": "fragment"
    }
   },
   "outputs": [],
   "source": [
    "def do_somcething(x):\n",
    "    x = x * 2v\n",
    "    return x\n",
    "v\n",
    "x = 10\n",
    "\n",
    "# You can start an interactive python terminal _inside_ an active cell:\n",
    "#from IPython import embed; embed()\n",
    "\n",
    "x = do_something(x)\n",
    "\n",
    "print(\"final: x =\",x)"
   ]
  },
  {
   "cell_type": "markdown",
   "metadata": {
    "cell_style": "split",
    "slideshow": {
     "slide_type": "subslide"
    }
   },
   "source": [
    "### Debugging Code (using builtin Python debugger)\n",
    "\n",
    "The interactive version of the python debugger is imported from the `IPython` module. \n",
    "\n",
    "| Command | Action                    | Example  |\n",
    "|---------|---------------------------|----------|\n",
    "|   p     | Print variable            | p x      |\n",
    "|   n     | Go to next statement      |          |\n",
    "|   c     | Run to next breakpoint    |          |\n",
    "|   s     | Step to next line of code |          |\n",
    "|   q     | Exit debugger             |          |\n",
    "\n",
    "\n"
   ]
  },
  {
   "cell_type": "code",
   "execution_count": null,
   "metadata": {
    "cell_style": "split",
    "slideshow": {
     "slide_type": "fragment"
    }
   },
   "outputs": [],
   "source": [
    "from IPython.core.debugger import set_trace as breakpoint\n",
    "\n",
    "def do_something(x):\n",
    "    breakpoint()\n",
    "    x = x * 2\n",
    "    breakpoint()\n",
    "    return x\n",
    "\n",
    "x = 10\n",
    "breakpoint()\n",
    "do_something(x)"
   ]
  },
  {
   "cell_type": "markdown",
   "metadata": {
    "slideshow": {
     "slide_type": "subslide"
    }
   },
   "source": [
    "### Debugging Code (Using JupyterLab)\n",
    "\n",
    "Finally, JupyterLab has a visual debugging environment. You can activate it in any notebook by clicking the little 🐞 icon in the upper right of the notebook window. \n"
   ]
  },
  {
   "cell_type": "markdown",
   "metadata": {
    "slideshow": {
     "slide_type": "subslide"
    }
   },
   "source": [
    "### Debugging Code (REPL)\n",
    "\n",
    "The Python REPL has a built-in debugging console. It can be instanced using the `breakpoint()` function anywhere in your code. \n",
    "\n",
    "Note: `breakpoint()` won't _currently_ work in Jupyter Notebooks or JupyterLab, unless you use `from IPython.core.debugger import set_trace as breakpoint` like we did in an earlier slide.\n"
   ]
  },
  {
   "cell_type": "code",
   "execution_count": null,
   "metadata": {
    "slideshow": {
     "slide_type": "fragment"
    },
    "tags": []
   },
   "outputs": [],
   "source": [
    "## The End"
   ]
  }
 ],
 "metadata": {
  "celltoolbar": "Slideshow",
  "kernelspec": {
   "display_name": "eds-217",
   "language": "python",
   "name": "eds-217"
  },
  "language_info": {
   "codemirror_mode": {
    "name": "ipython",
    "version": 3
   },
   "file_extension": ".py",
   "mimetype": "text/x-python",
   "name": "python",
   "nbconvert_exporter": "python",
   "pygments_lexer": "ipython3",
   "version": "3.10.5"
  },
  "rise": {
   "enable_chalkboard": true
  }
 },
 "nbformat": 4,
 "nbformat_minor": 4
}
